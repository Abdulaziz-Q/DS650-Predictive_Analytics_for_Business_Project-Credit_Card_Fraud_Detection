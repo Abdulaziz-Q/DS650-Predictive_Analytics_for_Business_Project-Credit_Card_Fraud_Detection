{
 "cells": [
  {
   "cell_type": "markdown",
   "metadata": {
    "id": "p4VSOeEmNEKZ"
   },
   "source": [
    "Important Libraries Import"
   ]
  },
  {
   "cell_type": "code",
   "execution_count": 2,
   "metadata": {
    "id": "qReVr35XYFz_"
   },
   "outputs": [],
   "source": [
    "import pandas as pd\n",
    "import numpy as np\n",
    "from sklearn.model_selection import train_test_split\n",
    "from sklearn.preprocessing import StandardScaler\n",
    "from sklearn.ensemble import RandomForestClassifier\n",
    "from sklearn.linear_model import LogisticRegression\n",
    "from sklearn.metrics import accuracy_score, confusion_matrix, classification_report, f1_score\n",
    "from sklearn.svm import SVC\n",
    "import matplotlib.pyplot as plt\n",
    "import seaborn as sns"
   ]
  },
  {
   "cell_type": "code",
   "execution_count": 3,
   "metadata": {
    "id": "tojhra39P_oP"
   },
   "outputs": [],
   "source": [
    "%matplotlib inline\n",
    "sns.set_style(\"whitegrid\")"
   ]
  },
  {
   "cell_type": "markdown",
   "metadata": {
    "id": "36hOyrNDNJjc"
   },
   "source": [
    "Reading the data from csv file and printing the head"
   ]
  },
  {
   "cell_type": "code",
   "execution_count": 5,
   "metadata": {
    "colab": {
     "base_uri": "https://localhost:8080/",
     "height": 299
    },
    "id": "Jyr3TNQpYcd6",
    "outputId": "41856c6a-51ff-41a4-bda2-f4e5c484de48"
   },
   "outputs": [
    {
     "data": {
      "text/html": [
       "\n",
       "  <div id=\"df-98af5c69-56ac-4867-be7c-1a1f0056782e\">\n",
       "    <div class=\"colab-df-container\">\n",
       "      <div>\n",
       "<style scoped>\n",
       "    .dataframe tbody tr th:only-of-type {\n",
       "        vertical-align: middle;\n",
       "    }\n",
       "\n",
       "    .dataframe tbody tr th {\n",
       "        vertical-align: top;\n",
       "    }\n",
       "\n",
       "    .dataframe thead th {\n",
       "        text-align: right;\n",
       "    }\n",
       "</style>\n",
       "<table border=\"1\" class=\"dataframe\">\n",
       "  <thead>\n",
       "    <tr style=\"text-align: right;\">\n",
       "      <th></th>\n",
       "      <th>Time</th>\n",
       "      <th>V1</th>\n",
       "      <th>V2</th>\n",
       "      <th>V3</th>\n",
       "      <th>V4</th>\n",
       "      <th>V5</th>\n",
       "      <th>V6</th>\n",
       "      <th>V7</th>\n",
       "      <th>V8</th>\n",
       "      <th>V9</th>\n",
       "      <th>...</th>\n",
       "      <th>V21</th>\n",
       "      <th>V22</th>\n",
       "      <th>V23</th>\n",
       "      <th>V24</th>\n",
       "      <th>V25</th>\n",
       "      <th>V26</th>\n",
       "      <th>V27</th>\n",
       "      <th>V28</th>\n",
       "      <th>Amount</th>\n",
       "      <th>Class</th>\n",
       "    </tr>\n",
       "  </thead>\n",
       "  <tbody>\n",
       "    <tr>\n",
       "      <th>0</th>\n",
       "      <td>0.0</td>\n",
       "      <td>-1.359807</td>\n",
       "      <td>-0.072781</td>\n",
       "      <td>2.536347</td>\n",
       "      <td>1.378155</td>\n",
       "      <td>-0.338321</td>\n",
       "      <td>0.462388</td>\n",
       "      <td>0.239599</td>\n",
       "      <td>0.098698</td>\n",
       "      <td>0.363787</td>\n",
       "      <td>...</td>\n",
       "      <td>-0.018307</td>\n",
       "      <td>0.277838</td>\n",
       "      <td>-0.110474</td>\n",
       "      <td>0.066928</td>\n",
       "      <td>0.128539</td>\n",
       "      <td>-0.189115</td>\n",
       "      <td>0.133558</td>\n",
       "      <td>-0.021053</td>\n",
       "      <td>149.62</td>\n",
       "      <td>0</td>\n",
       "    </tr>\n",
       "    <tr>\n",
       "      <th>1</th>\n",
       "      <td>0.0</td>\n",
       "      <td>1.191857</td>\n",
       "      <td>0.266151</td>\n",
       "      <td>0.166480</td>\n",
       "      <td>0.448154</td>\n",
       "      <td>0.060018</td>\n",
       "      <td>-0.082361</td>\n",
       "      <td>-0.078803</td>\n",
       "      <td>0.085102</td>\n",
       "      <td>-0.255425</td>\n",
       "      <td>...</td>\n",
       "      <td>-0.225775</td>\n",
       "      <td>-0.638672</td>\n",
       "      <td>0.101288</td>\n",
       "      <td>-0.339846</td>\n",
       "      <td>0.167170</td>\n",
       "      <td>0.125895</td>\n",
       "      <td>-0.008983</td>\n",
       "      <td>0.014724</td>\n",
       "      <td>2.69</td>\n",
       "      <td>0</td>\n",
       "    </tr>\n",
       "    <tr>\n",
       "      <th>2</th>\n",
       "      <td>1.0</td>\n",
       "      <td>-1.358354</td>\n",
       "      <td>-1.340163</td>\n",
       "      <td>1.773209</td>\n",
       "      <td>0.379780</td>\n",
       "      <td>-0.503198</td>\n",
       "      <td>1.800499</td>\n",
       "      <td>0.791461</td>\n",
       "      <td>0.247676</td>\n",
       "      <td>-1.514654</td>\n",
       "      <td>...</td>\n",
       "      <td>0.247998</td>\n",
       "      <td>0.771679</td>\n",
       "      <td>0.909412</td>\n",
       "      <td>-0.689281</td>\n",
       "      <td>-0.327642</td>\n",
       "      <td>-0.139097</td>\n",
       "      <td>-0.055353</td>\n",
       "      <td>-0.059752</td>\n",
       "      <td>378.66</td>\n",
       "      <td>0</td>\n",
       "    </tr>\n",
       "    <tr>\n",
       "      <th>3</th>\n",
       "      <td>1.0</td>\n",
       "      <td>-0.966272</td>\n",
       "      <td>-0.185226</td>\n",
       "      <td>1.792993</td>\n",
       "      <td>-0.863291</td>\n",
       "      <td>-0.010309</td>\n",
       "      <td>1.247203</td>\n",
       "      <td>0.237609</td>\n",
       "      <td>0.377436</td>\n",
       "      <td>-1.387024</td>\n",
       "      <td>...</td>\n",
       "      <td>-0.108300</td>\n",
       "      <td>0.005274</td>\n",
       "      <td>-0.190321</td>\n",
       "      <td>-1.175575</td>\n",
       "      <td>0.647376</td>\n",
       "      <td>-0.221929</td>\n",
       "      <td>0.062723</td>\n",
       "      <td>0.061458</td>\n",
       "      <td>123.50</td>\n",
       "      <td>0</td>\n",
       "    </tr>\n",
       "    <tr>\n",
       "      <th>4</th>\n",
       "      <td>2.0</td>\n",
       "      <td>-1.158233</td>\n",
       "      <td>0.877737</td>\n",
       "      <td>1.548718</td>\n",
       "      <td>0.403034</td>\n",
       "      <td>-0.407193</td>\n",
       "      <td>0.095921</td>\n",
       "      <td>0.592941</td>\n",
       "      <td>-0.270533</td>\n",
       "      <td>0.817739</td>\n",
       "      <td>...</td>\n",
       "      <td>-0.009431</td>\n",
       "      <td>0.798278</td>\n",
       "      <td>-0.137458</td>\n",
       "      <td>0.141267</td>\n",
       "      <td>-0.206010</td>\n",
       "      <td>0.502292</td>\n",
       "      <td>0.219422</td>\n",
       "      <td>0.215153</td>\n",
       "      <td>69.99</td>\n",
       "      <td>0</td>\n",
       "    </tr>\n",
       "  </tbody>\n",
       "</table>\n",
       "<p>5 rows × 31 columns</p>\n",
       "</div>\n",
       "      <button class=\"colab-df-convert\" onclick=\"convertToInteractive('df-98af5c69-56ac-4867-be7c-1a1f0056782e')\"\n",
       "              title=\"Convert this dataframe to an interactive table.\"\n",
       "              style=\"display:none;\">\n",
       "        \n",
       "  <svg xmlns=\"http://www.w3.org/2000/svg\" height=\"24px\"viewBox=\"0 0 24 24\"\n",
       "       width=\"24px\">\n",
       "    <path d=\"M0 0h24v24H0V0z\" fill=\"none\"/>\n",
       "    <path d=\"M18.56 5.44l.94 2.06.94-2.06 2.06-.94-2.06-.94-.94-2.06-.94 2.06-2.06.94zm-11 1L8.5 8.5l.94-2.06 2.06-.94-2.06-.94L8.5 2.5l-.94 2.06-2.06.94zm10 10l.94 2.06.94-2.06 2.06-.94-2.06-.94-.94-2.06-.94 2.06-2.06.94z\"/><path d=\"M17.41 7.96l-1.37-1.37c-.4-.4-.92-.59-1.43-.59-.52 0-1.04.2-1.43.59L10.3 9.45l-7.72 7.72c-.78.78-.78 2.05 0 2.83L4 21.41c.39.39.9.59 1.41.59.51 0 1.02-.2 1.41-.59l7.78-7.78 2.81-2.81c.8-.78.8-2.07 0-2.86zM5.41 20L4 18.59l7.72-7.72 1.47 1.35L5.41 20z\"/>\n",
       "  </svg>\n",
       "      </button>\n",
       "      \n",
       "  <style>\n",
       "    .colab-df-container {\n",
       "      display:flex;\n",
       "      flex-wrap:wrap;\n",
       "      gap: 12px;\n",
       "    }\n",
       "\n",
       "    .colab-df-convert {\n",
       "      background-color: #E8F0FE;\n",
       "      border: none;\n",
       "      border-radius: 50%;\n",
       "      cursor: pointer;\n",
       "      display: none;\n",
       "      fill: #1967D2;\n",
       "      height: 32px;\n",
       "      padding: 0 0 0 0;\n",
       "      width: 32px;\n",
       "    }\n",
       "\n",
       "    .colab-df-convert:hover {\n",
       "      background-color: #E2EBFA;\n",
       "      box-shadow: 0px 1px 2px rgba(60, 64, 67, 0.3), 0px 1px 3px 1px rgba(60, 64, 67, 0.15);\n",
       "      fill: #174EA6;\n",
       "    }\n",
       "\n",
       "    [theme=dark] .colab-df-convert {\n",
       "      background-color: #3B4455;\n",
       "      fill: #D2E3FC;\n",
       "    }\n",
       "\n",
       "    [theme=dark] .colab-df-convert:hover {\n",
       "      background-color: #434B5C;\n",
       "      box-shadow: 0px 1px 3px 1px rgba(0, 0, 0, 0.15);\n",
       "      filter: drop-shadow(0px 1px 2px rgba(0, 0, 0, 0.3));\n",
       "      fill: #FFFFFF;\n",
       "    }\n",
       "  </style>\n",
       "\n",
       "      <script>\n",
       "        const buttonEl =\n",
       "          document.querySelector('#df-98af5c69-56ac-4867-be7c-1a1f0056782e button.colab-df-convert');\n",
       "        buttonEl.style.display =\n",
       "          google.colab.kernel.accessAllowed ? 'block' : 'none';\n",
       "\n",
       "        async function convertToInteractive(key) {\n",
       "          const element = document.querySelector('#df-98af5c69-56ac-4867-be7c-1a1f0056782e');\n",
       "          const dataTable =\n",
       "            await google.colab.kernel.invokeFunction('convertToInteractive',\n",
       "                                                     [key], {});\n",
       "          if (!dataTable) return;\n",
       "\n",
       "          const docLinkHtml = 'Like what you see? Visit the ' +\n",
       "            '<a target=\"_blank\" href=https://colab.research.google.com/notebooks/data_table.ipynb>data table notebook</a>'\n",
       "            + ' to learn more about interactive tables.';\n",
       "          element.innerHTML = '';\n",
       "          dataTable['output_type'] = 'display_data';\n",
       "          await google.colab.output.renderOutput(dataTable, element);\n",
       "          const docLink = document.createElement('div');\n",
       "          docLink.innerHTML = docLinkHtml;\n",
       "          element.appendChild(docLink);\n",
       "        }\n",
       "      </script>\n",
       "    </div>\n",
       "  </div>\n",
       "  "
      ],
      "text/plain": [
       "   Time        V1        V2        V3        V4        V5        V6        V7  \\\n",
       "0   0.0 -1.359807 -0.072781  2.536347  1.378155 -0.338321  0.462388  0.239599   \n",
       "1   0.0  1.191857  0.266151  0.166480  0.448154  0.060018 -0.082361 -0.078803   \n",
       "2   1.0 -1.358354 -1.340163  1.773209  0.379780 -0.503198  1.800499  0.791461   \n",
       "3   1.0 -0.966272 -0.185226  1.792993 -0.863291 -0.010309  1.247203  0.237609   \n",
       "4   2.0 -1.158233  0.877737  1.548718  0.403034 -0.407193  0.095921  0.592941   \n",
       "\n",
       "         V8        V9  ...       V21       V22       V23       V24       V25  \\\n",
       "0  0.098698  0.363787  ... -0.018307  0.277838 -0.110474  0.066928  0.128539   \n",
       "1  0.085102 -0.255425  ... -0.225775 -0.638672  0.101288 -0.339846  0.167170   \n",
       "2  0.247676 -1.514654  ...  0.247998  0.771679  0.909412 -0.689281 -0.327642   \n",
       "3  0.377436 -1.387024  ... -0.108300  0.005274 -0.190321 -1.175575  0.647376   \n",
       "4 -0.270533  0.817739  ... -0.009431  0.798278 -0.137458  0.141267 -0.206010   \n",
       "\n",
       "        V26       V27       V28  Amount  Class  \n",
       "0 -0.189115  0.133558 -0.021053  149.62      0  \n",
       "1  0.125895 -0.008983  0.014724    2.69      0  \n",
       "2 -0.139097 -0.055353 -0.059752  378.66      0  \n",
       "3 -0.221929  0.062723  0.061458  123.50      0  \n",
       "4  0.502292  0.219422  0.215153   69.99      0  \n",
       "\n",
       "[5 rows x 31 columns]"
      ]
     },
     "execution_count": 5,
     "metadata": {},
     "output_type": "execute_result"
    }
   ],
   "source": [
    "df = pd.read_csv(\"/content/drive/MyDrive/Colab Notebooks/creditcard/creditcard.csv\")\n",
    "df.head()"
   ]
  },
  {
   "cell_type": "markdown",
   "metadata": {
    "id": "HvxKdChaNPbQ"
   },
   "source": [
    "Removing NaN values from data"
   ]
  },
  {
   "cell_type": "code",
   "execution_count": 6,
   "metadata": {
    "colab": {
     "base_uri": "https://localhost:8080/"
    },
    "id": "Gfpxf9Kpfnzb",
    "outputId": "a2295707-4809-4921-f5bf-f50d20bbb5bf"
   },
   "outputs": [
    {
     "data": {
      "text/plain": [
       "0"
      ]
     },
     "execution_count": 6,
     "metadata": {},
     "output_type": "execute_result"
    }
   ],
   "source": [
    "df.isnull().sum().sum()\n",
    "df=df.dropna()\n",
    "df.isnull().sum().sum()"
   ]
  },
  {
   "cell_type": "markdown",
   "metadata": {
    "id": "cx0BZGYlNTXa"
   },
   "source": []
  },
  {
   "cell_type": "markdown",
   "metadata": {
    "id": "GpHJSBN_NXJa"
   },
   "source": [
    "Declaring the labels of data"
   ]
  },
  {
   "cell_type": "code",
   "execution_count": 7,
   "metadata": {
    "id": "H7DwO9GXfu2a"
   },
   "outputs": [],
   "source": [
    "LABELS = [\"Normal\", \"Fraud\"]"
   ]
  },
  {
   "cell_type": "markdown",
   "metadata": {
    "id": "bXybRPR4Nmo_"
   },
   "source": [
    "Generating a bar chart of the class count"
   ]
  },
  {
   "cell_type": "code",
   "execution_count": 8,
   "metadata": {
    "colab": {
     "base_uri": "https://localhost:8080/",
     "height": 295
    },
    "id": "yBbrOXo4fxKp",
    "outputId": "ec1a1770-4f57-48e5-e82d-4589d44246aa"
   },
   "outputs": [
    {
     "data": {
      "image/png": "[encoded data removed]",
      "text/plain": [
       "<Figure size 432x288 with 1 Axes>"
      ]
     },
     "metadata": {},
     "output_type": "display_data"
    }
   ],
   "source": [
    "classes = pd.value_counts(df['Class'], sort = True)\n",
    "classes.plot(kind = 'bar', rot=0)\n",
    "plt.title(\"Class Distribution\")\n",
    "plt.xticks(range(2), LABELS)\n",
    "plt.xlabel(\"Class\")\n",
    "plt.ylabel(\"Frequency\");"
   ]
  },
  {
   "cell_type": "markdown",
   "metadata": {
    "id": "B0aYe38gNsSv"
   },
   "source": [
    "Printing the totall amount of samples against each class"
   ]
  },
  {
   "cell_type": "code",
   "execution_count": 9,
   "metadata": {
    "colab": {
     "base_uri": "https://localhost:8080/"
    },
    "id": "TqtIniYqfzpS",
    "outputId": "5de4c4d0-c03b-4d1c-a86e-f23576287252"
   },
   "outputs": [
    {
     "data": {
      "text/plain": [
       "0    284315\n",
       "1       492\n",
       "Name: Class, dtype: int64"
      ]
     },
     "execution_count": 9,
     "metadata": {},
     "output_type": "execute_result"
    }
   ],
   "source": [
    "df.Class.value_counts()"
   ]
  },
  {
   "cell_type": "markdown",
   "metadata": {
    "id": "VjUxveavN0KR"
   },
   "source": [
    "Printing the shape of both the classes"
   ]
  },
  {
   "cell_type": "code",
   "execution_count": 10,
   "metadata": {
    "colab": {
     "base_uri": "https://localhost:8080/"
    },
    "id": "GRgE0Utcf4t6",
    "outputId": "e187b33a-2e61-4f88-81d1-5ec7868883c7"
   },
   "outputs": [
    {
     "name": "stdout",
     "output_type": "stream",
     "text": [
      "Shape of Fraudulant transactions: (492, 31)\n",
      "Shape of Non-Fraudulant transactions: (284315, 31)\n"
     ]
    }
   ],
   "source": [
    "fraud = df[df['Class']==1]\n",
    "normal = df[df['Class']==0]\n",
    "\n",
    "print(f\"Shape of Fraudulant transactions: {fraud.shape}\")\n",
    "print(f\"Shape of Non-Fraudulant transactions: {normal.shape}\")"
   ]
  },
  {
   "cell_type": "code",
   "execution_count": 12,
   "metadata": {
    "colab": {
     "base_uri": "https://localhost:8080/",
     "height": 364
    },
    "id": "bE4NokP5gCmb",
    "outputId": "e1283324-51a4-40a3-f8ef-f526d550d445"
   },
   "outputs": [
    {
     "data": {
      "text/plain": [
       "<matplotlib.legend.Legend at 0x7fda94ecab90>"
      ]
     },
     "execution_count": 12,
     "metadata": {},
     "output_type": "execute_result"
    },
    {
     "data": {
      "image/png": "[encoded data removed]",
      "text/plain": [
       "<Figure size 1008x864 with 2 Axes>"
      ]
     },
     "metadata": {},
     "output_type": "display_data"
    }
   ],
   "source": [
    "plt.figure(figsize=(14, 12))\n",
    "\n",
    "plt.subplot(2, 2, 1)\n",
    "df[df.Class == 1].Time.hist(bins=35, color='blue', alpha=0.6, label=\"Fraudulant Transaction\")\n",
    "plt.legend()\n",
    "\n",
    "plt.subplot(2, 2, 2)\n",
    "df[df.Class == 0].Time.hist(bins=35, color='blue', alpha=0.6, label=\"Non Fraudulant Transaction\")\n",
    "plt.legend()"
   ]
  },
  {
   "cell_type": "markdown",
   "metadata": {
    "id": "aaG1WmMdOXBg"
   },
   "source": [
    "heatmap to find any high correlations"
   ]
  },
  {
   "cell_type": "code",
   "execution_count": 13,
   "metadata": {
    "colab": {
     "base_uri": "https://localhost:8080/",
     "height": 625
    },
    "id": "ErfMJrTxgFFZ",
    "outputId": "b40f809b-e1d3-4ae5-df66-e3cdc50cde61"
   },
   "outputs": [
    {
     "data": {
      "image/png": "[encoded data removed]",
      "text/plain": [
       "<Figure size 720x720 with 2 Axes>"
      ]
     },
     "metadata": {},
     "output_type": "display_data"
    }
   ],
   "source": [
    "\n",
    "plt.figure(figsize=(10,10))\n",
    "sns.heatmap(data=df.corr(), cmap=\"seismic\")\n",
    "plt.show();"
   ]
  },
  {
   "cell_type": "markdown",
   "metadata": {
    "id": "9tR_t-tQOd8W"
   },
   "source": [
    "Distribution of data into training and testing and tghen scalar transformation"
   ]
  },
  {
   "cell_type": "code",
   "execution_count": 14,
   "metadata": {
    "colab": {
     "base_uri": "https://localhost:8080/"
    },
    "id": "m2DAhszugM9x",
    "outputId": "202682c3-9e14-4f9b-b63a-35944b0c7f5f"
   },
   "outputs": [
    {
     "name": "stdout",
     "output_type": "stream",
     "text": [
      "Fraudulant transaction weight: 0.0017994745785028623\n",
      "Non-Fraudulant transaction weight: 0.9982005254214972\n"
     ]
    }
   ],
   "source": [
    "scalar = StandardScaler()\n",
    "\n",
    "X = df.drop('Class', axis=1)\n",
    "y = df.Class\n",
    "\n",
    "X_train_v, X_test, y_train_v, y_test = train_test_split(X, y, \n",
    "                                                    test_size=0.3, random_state=42)\n",
    "X_train, X_validate, y_train, y_validate = train_test_split(X_train_v, y_train_v, \n",
    "                                                            test_size=0.2, random_state=42)\n",
    "\n",
    "X_train = scalar.fit_transform(X_train)\n",
    "X_validate = scalar.transform(X_validate)\n",
    "X_test = scalar.transform(X_test)\n",
    "\n",
    "w_p = y_train.value_counts()[0] / len(y_train)\n",
    "w_n = y_train.value_counts()[1] / len(y_train)\n",
    "\n",
    "print(f\"Fraudulant transaction weight: {w_n}\")\n",
    "print(f\"Non-Fraudulant transaction weight: {w_p}\")"
   ]
  },
  {
   "cell_type": "code",
   "execution_count": 15,
   "metadata": {
    "colab": {
     "base_uri": "https://localhost:8080/"
    },
    "id": "eKetxuqLgPXB",
    "outputId": "e30ddff3-3dcf-403f-8144-0a23e402f441"
   },
   "outputs": [
    {
     "name": "stdout",
     "output_type": "stream",
     "text": [
      "TRAINING: X_train: (159491, 30), y_train: (159491,)\n",
      "_______________________________________________________\n",
      "VALIDATION: X_validate: (39873, 30), y_validate: (39873,)\n",
      "__________________________________________________\n",
      "TESTING: X_test: (85443, 30), y_test: (85443,)\n"
     ]
    }
   ],
   "source": [
    "print(f\"TRAINING: X_train: {X_train.shape}, y_train: {y_train.shape}\\n{'_'*55}\")\n",
    "print(f\"VALIDATION: X_validate: {X_validate.shape}, y_validate: {y_validate.shape}\\n{'_'*50}\")\n",
    "print(f\"TESTING: X_test: {X_test.shape}, y_test: {y_test.shape}\")"
   ]
  },
  {
   "cell_type": "markdown",
   "metadata": {
    "id": "oCNuDDbYOobY"
   },
   "source": [
    "Function to priny Accuracy, classificationn report f1 score recall precision"
   ]
  },
  {
   "cell_type": "code",
   "execution_count": 16,
   "metadata": {
    "id": "5CupDvnZgT8Y"
   },
   "outputs": [],
   "source": [
    "def print_score(label, prediction, train=True):\n",
    "    if train:\n",
    "        clf_report = pd.DataFrame(classification_report(label, prediction, output_dict=True))\n",
    "        print(\"Train Result:\\n================================================\")\n",
    "        print(f\"Accuracy Score: {accuracy_score(label, prediction) * 100:.2f}%\")\n",
    "        print(\"_______________________________________________\")\n",
    "        print(f\"Classification Report:\\n{clf_report}\")\n",
    "        print(\"_______________________________________________\")\n",
    "        print(f\"Confusion Matrix: \\n {confusion_matrix(y_train, prediction)}\\n\")\n",
    "        \n",
    "    elif train==False:\n",
    "        clf_report = pd.DataFrame(classification_report(label, prediction, output_dict=True))\n",
    "        print(\"Test Result:\\n================================================\")        \n",
    "        print(f\"Accuracy Score: {accuracy_score(label, prediction) * 100:.2f}%\")\n",
    "        print(\"_______________________________________________\")\n",
    "        print(f\"Classification Report:\\n{clf_report}\")\n",
    "        print(\"_______________________________________________\")\n",
    "        print(f\"Confusion Matrix: \\n {confusion_matrix(label, prediction)}\\n\")"
   ]
  },
  {
   "cell_type": "markdown",
   "metadata": {
    "id": "Qb454sWvOxtm"
   },
   "source": [
    "Model Compilation"
   ]
  },
  {
   "cell_type": "code",
   "execution_count": 17,
   "metadata": {
    "colab": {
     "base_uri": "https://localhost:8080/"
    },
    "id": "wZBUWnc9gXQA",
    "outputId": "060d0eb1-e294-43e8-ce0f-d5ef15685201"
   },
   "outputs": [
    {
     "name": "stdout",
     "output_type": "stream",
     "text": [
      "Model: \"sequential\"\n",
      "_________________________________________________________________\n",
      " Layer (type)                Output Shape              Param #   \n",
      "=================================================================\n",
      " dense (Dense)               (None, 256)               7936      \n",
      "                                                                 \n",
      " batch_normalization (BatchN  (None, 256)              1024      \n",
      " ormalization)                                                   \n",
      "                                                                 \n",
      " dropout (Dropout)           (None, 256)               0         \n",
      "                                                                 \n",
      " dense_1 (Dense)             (None, 256)               65792     \n",
      "                                                                 \n",
      " batch_normalization_1 (Batc  (None, 256)              1024      \n",
      " hNormalization)                                                 \n",
      "                                                                 \n",
      " dropout_1 (Dropout)         (None, 256)               0         \n",
      "                                                                 \n",
      " dense_2 (Dense)             (None, 256)               65792     \n",
      "                                                                 \n",
      " batch_normalization_2 (Batc  (None, 256)              1024      \n",
      " hNormalization)                                                 \n",
      "                                                                 \n",
      " dropout_2 (Dropout)         (None, 256)               0         \n",
      "                                                                 \n",
      " dense_3 (Dense)             (None, 1)                 257       \n",
      "                                                                 \n",
      "=================================================================\n",
      "Total params: 142,849\n",
      "Trainable params: 141,313\n",
      "Non-trainable params: 1,536\n",
      "_________________________________________________________________\n"
     ]
    }
   ],
   "source": [
    "from tensorflow import keras\n",
    "\n",
    "model = keras.Sequential([\n",
    "    keras.layers.Dense(256, activation='relu', input_shape=(X_train.shape[-1],)),\n",
    "    keras.layers.BatchNormalization(),\n",
    "    keras.layers.Dropout(0.3),\n",
    "    keras.layers.Dense(256, activation='relu'),\n",
    "    keras.layers.BatchNormalization(),\n",
    "    keras.layers.Dropout(0.3),\n",
    "    keras.layers.Dense(256, activation='relu'),\n",
    "    keras.layers.BatchNormalization(),\n",
    "    keras.layers.Dropout(0.3),\n",
    "    keras.layers.Dense(1, activation='sigmoid'),\n",
    "])\n",
    "\n",
    "model.summary()"
   ]
  },
  {
   "cell_type": "markdown",
   "metadata": {
    "id": "cbwlP7qAO2Un"
   },
   "source": [
    "Model Compilation"
   ]
  },
  {
   "cell_type": "code",
   "execution_count": 18,
   "metadata": {
    "id": "VSZazX4qgdCC"
   },
   "outputs": [],
   "source": [
    "myMetrics = [\n",
    "    keras.metrics.FalseNegatives(name='fn'),\n",
    "    keras.metrics.FalsePositives(name='fp'),\n",
    "    keras.metrics.TrueNegatives(name='tn'),\n",
    "    keras.metrics.TruePositives(name='tp'),\n",
    "    keras.metrics.Precision(name='precision'),\n",
    "    keras.metrics.Recall(name='recall')\n",
    "]\n",
    "\n",
    "model.compile(optimizer=keras.optimizers.Adam(1e-4), loss='binary_crossentropy', metrics=myMetrics)"
   ]
  },
  {
   "cell_type": "markdown",
   "metadata": {
    "id": "YUyx1P6nPV6r"
   },
   "source": [
    "Model Training"
   ]
  },
  {
   "cell_type": "code",
   "execution_count": 19,
   "metadata": {
    "colab": {
     "base_uri": "https://localhost:8080/"
    },
    "id": "MLOktI8aQ0y_",
    "outputId": "5401625d-de66-4381-85b1-d8a13cec7c39"
   },
   "outputs": [
    {
     "name": "stdout",
     "output_type": "stream",
     "text": [
      "Epoch 1/100\n",
      "78/78 [==============================] - 9s 82ms/step - loss: 0.8168 - fn: 60.0000 - fp: 73451.0000 - tn: 85753.0000 - tp: 227.0000 - precision: 0.0031 - recall: 0.7909 - val_loss: 0.5659 - val_fn: 13.0000 - val_fp: 261.0000 - val_tn: 39543.0000 - val_tp: 56.0000 - val_precision: 0.1767 - val_recall: 0.8116\n",
      "Epoch 2/100\n",
      "78/78 [==============================] - 6s 73ms/step - loss: 0.6924 - fn: 43.0000 - fp: 61015.0000 - tn: 98189.0000 - tp: 244.0000 - precision: 0.0040 - recall: 0.8502 - val_loss: 0.5269 - val_fn: 13.0000 - val_fp: 238.0000 - val_tn: 39566.0000 - val_tp: 56.0000 - val_precision: 0.1905 - val_recall: 0.8116\n",
      "Epoch 3/100\n",
      "78/78 [==============================] - 6s 73ms/step - loss: 0.6140 - fn: 46.0000 - fp: 48590.0000 - tn: 110614.0000 - tp: 241.0000 - precision: 0.0049 - recall: 0.8397 - val_loss: 0.4841 - val_fn: 13.0000 - val_fp: 116.0000 - val_tn: 39688.0000 - val_tp: 56.0000 - val_precision: 0.3256 - val_recall: 0.8116\n",
      "Epoch 4/100\n",
      "78/78 [==============================] - 6s 73ms/step - loss: 0.5407 - fn: 43.0000 - fp: 35718.0000 - tn: 123486.0000 - tp: 244.0000 - precision: 0.0068 - recall: 0.8502 - val_loss: 0.4178 - val_fn: 13.0000 - val_fp: 28.0000 - val_tn: 39776.0000 - val_tp: 56.0000 - val_precision: 0.6667 - val_recall: 0.8116\n",
      "Epoch 5/100\n",
      "78/78 [==============================] - 6s 82ms/step - loss: 0.4744 - fn: 45.0000 - fp: 24490.0000 - tn: 134714.0000 - tp: 242.0000 - precision: 0.0098 - recall: 0.8432 - val_loss: 0.3540 - val_fn: 13.0000 - val_fp: 19.0000 - val_tn: 39785.0000 - val_tp: 56.0000 - val_precision: 0.7467 - val_recall: 0.8116\n",
      "Epoch 6/100\n",
      "78/78 [==============================] - 6s 73ms/step - loss: 0.4130 - fn: 56.0000 - fp: 15830.0000 - tn: 143374.0000 - tp: 231.0000 - precision: 0.0144 - recall: 0.8049 - val_loss: 0.3029 - val_fn: 13.0000 - val_fp: 16.0000 - val_tn: 39788.0000 - val_tp: 56.0000 - val_precision: 0.7778 - val_recall: 0.8116\n",
      "Epoch 7/100\n",
      "78/78 [==============================] - 6s 73ms/step - loss: 0.3517 - fn: 54.0000 - fp: 9340.0000 - tn: 149864.0000 - tp: 233.0000 - precision: 0.0243 - recall: 0.8118 - val_loss: 0.2582 - val_fn: 13.0000 - val_fp: 14.0000 - val_tn: 39790.0000 - val_tp: 56.0000 - val_precision: 0.8000 - val_recall: 0.8116\n",
      "Epoch 8/100\n",
      "78/78 [==============================] - 6s 73ms/step - loss: 0.2972 - fn: 49.0000 - fp: 5414.0000 - tn: 153790.0000 - tp: 238.0000 - precision: 0.0421 - recall: 0.8293 - val_loss: 0.2216 - val_fn: 13.0000 - val_fp: 14.0000 - val_tn: 39790.0000 - val_tp: 56.0000 - val_precision: 0.8000 - val_recall: 0.8116\n",
      "Epoch 9/100\n",
      "78/78 [==============================] - 6s 72ms/step - loss: 0.2492 - fn: 56.0000 - fp: 3222.0000 - tn: 155982.0000 - tp: 231.0000 - precision: 0.0669 - recall: 0.8049 - val_loss: 0.1814 - val_fn: 14.0000 - val_fp: 14.0000 - val_tn: 39790.0000 - val_tp: 55.0000 - val_precision: 0.7971 - val_recall: 0.7971\n",
      "Epoch 10/100\n",
      "78/78 [==============================] - 6s 73ms/step - loss: 0.2079 - fn: 67.0000 - fp: 1882.0000 - tn: 157322.0000 - tp: 220.0000 - precision: 0.1047 - recall: 0.7666 - val_loss: 0.1468 - val_fn: 14.0000 - val_fp: 14.0000 - val_tn: 39790.0000 - val_tp: 55.0000 - val_precision: 0.7971 - val_recall: 0.7971\n",
      "Epoch 11/100\n",
      "78/78 [==============================] - 6s 72ms/step - loss: 0.1749 - fn: 69.0000 - fp: 1304.0000 - tn: 157900.0000 - tp: 218.0000 - precision: 0.1432 - recall: 0.7596 - val_loss: 0.1255 - val_fn: 14.0000 - val_fp: 14.0000 - val_tn: 39790.0000 - val_tp: 55.0000 - val_precision: 0.7971 - val_recall: 0.7971\n",
      "Epoch 12/100\n",
      "78/78 [==============================] - 6s 73ms/step - loss: 0.1458 - fn: 86.0000 - fp: 902.0000 - tn: 158302.0000 - tp: 201.0000 - precision: 0.1822 - recall: 0.7003 - val_loss: 0.1036 - val_fn: 14.0000 - val_fp: 14.0000 - val_tn: 39790.0000 - val_tp: 55.0000 - val_precision: 0.7971 - val_recall: 0.7971\n",
      "Epoch 13/100\n",
      "78/78 [==============================] - 6s 74ms/step - loss: 0.1236 - fn: 90.0000 - fp: 652.0000 - tn: 158552.0000 - tp: 197.0000 - precision: 0.2320 - recall: 0.6864 - val_loss: 0.0886 - val_fn: 14.0000 - val_fp: 14.0000 - val_tn: 39790.0000 - val_tp: 55.0000 - val_precision: 0.7971 - val_recall: 0.7971\n",
      "Epoch 14/100\n",
      "78/78 [==============================] - 6s 73ms/step - loss: 0.1068 - fn: 86.0000 - fp: 532.0000 - tn: 158672.0000 - tp: 201.0000 - precision: 0.2742 - recall: 0.7003 - val_loss: 0.0745 - val_fn: 14.0000 - val_fp: 14.0000 - val_tn: 39790.0000 - val_tp: 55.0000 - val_precision: 0.7971 - val_recall: 0.7971\n",
      "Epoch 15/100\n",
      "78/78 [==============================] - 6s 74ms/step - loss: 0.0907 - fn: 85.0000 - fp: 392.0000 - tn: 158812.0000 - tp: 202.0000 - precision: 0.3401 - recall: 0.7038 - val_loss: 0.0624 - val_fn: 14.0000 - val_fp: 14.0000 - val_tn: 39790.0000 - val_tp: 55.0000 - val_precision: 0.7971 - val_recall: 0.7971\n",
      "Epoch 16/100\n",
      "78/78 [==============================] - 6s 82ms/step - loss: 0.0781 - fn: 87.0000 - fp: 369.0000 - tn: 158835.0000 - tp: 200.0000 - precision: 0.3515 - recall: 0.6969 - val_loss: 0.0581 - val_fn: 14.0000 - val_fp: 14.0000 - val_tn: 39790.0000 - val_tp: 55.0000 - val_precision: 0.7971 - val_recall: 0.7971\n",
      "Epoch 17/100\n",
      "78/78 [==============================] - 6s 74ms/step - loss: 0.0685 - fn: 86.0000 - fp: 275.0000 - tn: 158929.0000 - tp: 201.0000 - precision: 0.4223 - recall: 0.7003 - val_loss: 0.0496 - val_fn: 14.0000 - val_fp: 14.0000 - val_tn: 39790.0000 - val_tp: 55.0000 - val_precision: 0.7971 - val_recall: 0.7971\n",
      "Epoch 18/100\n",
      "78/78 [==============================] - 6s 74ms/step - loss: 0.0602 - fn: 98.0000 - fp: 233.0000 - tn: 158971.0000 - tp: 189.0000 - precision: 0.4479 - recall: 0.6585 - val_loss: 0.0430 - val_fn: 14.0000 - val_fp: 14.0000 - val_tn: 39790.0000 - val_tp: 55.0000 - val_precision: 0.7971 - val_recall: 0.7971\n",
      "Epoch 19/100\n",
      "78/78 [==============================] - 6s 74ms/step - loss: 0.0529 - fn: 85.0000 - fp: 220.0000 - tn: 158984.0000 - tp: 202.0000 - precision: 0.4787 - recall: 0.7038 - val_loss: 0.0397 - val_fn: 14.0000 - val_fp: 14.0000 - val_tn: 39790.0000 - val_tp: 55.0000 - val_precision: 0.7971 - val_recall: 0.7971\n",
      "Epoch 20/100\n",
      "78/78 [==============================] - 6s 74ms/step - loss: 0.0486 - fn: 94.0000 - fp: 192.0000 - tn: 159012.0000 - tp: 193.0000 - precision: 0.5013 - recall: 0.6725 - val_loss: 0.0374 - val_fn: 14.0000 - val_fp: 14.0000 - val_tn: 39790.0000 - val_tp: 55.0000 - val_precision: 0.7971 - val_recall: 0.7971\n",
      "Epoch 21/100\n",
      "78/78 [==============================] - 6s 74ms/step - loss: 0.0450 - fn: 93.0000 - fp: 192.0000 - tn: 159012.0000 - tp: 194.0000 - precision: 0.5026 - recall: 0.6760 - val_loss: 0.0343 - val_fn: 14.0000 - val_fp: 14.0000 - val_tn: 39790.0000 - val_tp: 55.0000 - val_precision: 0.7971 - val_recall: 0.7971\n",
      "Epoch 22/100\n",
      "78/78 [==============================] - 6s 74ms/step - loss: 0.0392 - fn: 88.0000 - fp: 161.0000 - tn: 159043.0000 - tp: 199.0000 - precision: 0.5528 - recall: 0.6934 - val_loss: 0.0330 - val_fn: 14.0000 - val_fp: 14.0000 - val_tn: 39790.0000 - val_tp: 55.0000 - val_precision: 0.7971 - val_recall: 0.7971\n",
      "Epoch 23/100\n",
      "78/78 [==============================] - 6s 81ms/step - loss: 0.0364 - fn: 92.0000 - fp: 139.0000 - tn: 159065.0000 - tp: 195.0000 - precision: 0.5838 - recall: 0.6794 - val_loss: 0.0308 - val_fn: 14.0000 - val_fp: 14.0000 - val_tn: 39790.0000 - val_tp: 55.0000 - val_precision: 0.7971 - val_recall: 0.7971\n",
      "Epoch 24/100\n",
      "78/78 [==============================] - 6s 74ms/step - loss: 0.0339 - fn: 90.0000 - fp: 124.0000 - tn: 159080.0000 - tp: 197.0000 - precision: 0.6137 - recall: 0.6864 - val_loss: 0.0284 - val_fn: 14.0000 - val_fp: 14.0000 - val_tn: 39790.0000 - val_tp: 55.0000 - val_precision: 0.7971 - val_recall: 0.7971\n",
      "Epoch 25/100\n",
      "78/78 [==============================] - 6s 75ms/step - loss: 0.0306 - fn: 97.0000 - fp: 114.0000 - tn: 159090.0000 - tp: 190.0000 - precision: 0.6250 - recall: 0.6620 - val_loss: 0.0265 - val_fn: 14.0000 - val_fp: 14.0000 - val_tn: 39790.0000 - val_tp: 55.0000 - val_precision: 0.7971 - val_recall: 0.7971\n",
      "Epoch 26/100\n",
      "78/78 [==============================] - 6s 75ms/step - loss: 0.0292 - fn: 88.0000 - fp: 107.0000 - tn: 159097.0000 - tp: 199.0000 - precision: 0.6503 - recall: 0.6934 - val_loss: 0.0252 - val_fn: 14.0000 - val_fp: 14.0000 - val_tn: 39790.0000 - val_tp: 55.0000 - val_precision: 0.7971 - val_recall: 0.7971\n",
      "Epoch 27/100\n",
      "78/78 [==============================] - 6s 75ms/step - loss: 0.0293 - fn: 95.0000 - fp: 95.0000 - tn: 159109.0000 - tp: 192.0000 - precision: 0.6690 - recall: 0.6690 - val_loss: 0.0237 - val_fn: 14.0000 - val_fp: 14.0000 - val_tn: 39790.0000 - val_tp: 55.0000 - val_precision: 0.7971 - val_recall: 0.7971\n",
      "Epoch 28/100\n",
      "78/78 [==============================] - 6s 75ms/step - loss: 0.0262 - fn: 93.0000 - fp: 101.0000 - tn: 159103.0000 - tp: 194.0000 - precision: 0.6576 - recall: 0.6760 - val_loss: 0.0243 - val_fn: 14.0000 - val_fp: 14.0000 - val_tn: 39790.0000 - val_tp: 55.0000 - val_precision: 0.7971 - val_recall: 0.7971\n",
      "Epoch 29/100\n",
      "78/78 [==============================] - 6s 74ms/step - loss: 0.0264 - fn: 91.0000 - fp: 109.0000 - tn: 159095.0000 - tp: 196.0000 - precision: 0.6426 - recall: 0.6829 - val_loss: 0.0217 - val_fn: 14.0000 - val_fp: 14.0000 - val_tn: 39790.0000 - val_tp: 55.0000 - val_precision: 0.7971 - val_recall: 0.7971\n",
      "Epoch 30/100\n",
      "78/78 [==============================] - 6s 75ms/step - loss: 0.0255 - fn: 95.0000 - fp: 94.0000 - tn: 159110.0000 - tp: 192.0000 - precision: 0.6713 - recall: 0.6690 - val_loss: 0.0198 - val_fn: 14.0000 - val_fp: 14.0000 - val_tn: 39790.0000 - val_tp: 55.0000 - val_precision: 0.7971 - val_recall: 0.7971\n",
      "Epoch 31/100\n",
      "78/78 [==============================] - 6s 75ms/step - loss: 0.0224 - fn: 90.0000 - fp: 79.0000 - tn: 159125.0000 - tp: 197.0000 - precision: 0.7138 - recall: 0.6864 - val_loss: 0.0179 - val_fn: 14.0000 - val_fp: 14.0000 - val_tn: 39790.0000 - val_tp: 55.0000 - val_precision: 0.7971 - val_recall: 0.7971\n",
      "Epoch 32/100\n",
      "78/78 [==============================] - 6s 74ms/step - loss: 0.0210 - fn: 95.0000 - fp: 86.0000 - tn: 159118.0000 - tp: 192.0000 - precision: 0.6906 - recall: 0.6690 - val_loss: 0.0204 - val_fn: 14.0000 - val_fp: 14.0000 - val_tn: 39790.0000 - val_tp: 55.0000 - val_precision: 0.7971 - val_recall: 0.7971\n",
      "Epoch 33/100\n",
      "78/78 [==============================] - 6s 74ms/step - loss: 0.0199 - fn: 87.0000 - fp: 84.0000 - tn: 159120.0000 - tp: 200.0000 - precision: 0.7042 - recall: 0.6969 - val_loss: 0.0188 - val_fn: 14.0000 - val_fp: 14.0000 - val_tn: 39790.0000 - val_tp: 55.0000 - val_precision: 0.7971 - val_recall: 0.7971\n",
      "Epoch 34/100\n",
      "78/78 [==============================] - 6s 75ms/step - loss: 0.0195 - fn: 90.0000 - fp: 72.0000 - tn: 159132.0000 - tp: 197.0000 - precision: 0.7323 - recall: 0.6864 - val_loss: 0.0185 - val_fn: 14.0000 - val_fp: 14.0000 - val_tn: 39790.0000 - val_tp: 55.0000 - val_precision: 0.7971 - val_recall: 0.7971\n",
      "Epoch 35/100\n",
      "78/78 [==============================] - 6s 75ms/step - loss: 0.0186 - fn: 88.0000 - fp: 76.0000 - tn: 159128.0000 - tp: 199.0000 - precision: 0.7236 - recall: 0.6934 - val_loss: 0.0179 - val_fn: 14.0000 - val_fp: 14.0000 - val_tn: 39790.0000 - val_tp: 55.0000 - val_precision: 0.7971 - val_recall: 0.7971\n",
      "Epoch 36/100\n",
      "78/78 [==============================] - 6s 75ms/step - loss: 0.0184 - fn: 91.0000 - fp: 79.0000 - tn: 159125.0000 - tp: 196.0000 - precision: 0.7127 - recall: 0.6829 - val_loss: 0.0186 - val_fn: 14.0000 - val_fp: 14.0000 - val_tn: 39790.0000 - val_tp: 55.0000 - val_precision: 0.7971 - val_recall: 0.7971\n",
      "Epoch 37/100\n",
      "78/78 [==============================] - 6s 75ms/step - loss: 0.0201 - fn: 96.0000 - fp: 70.0000 - tn: 159134.0000 - tp: 191.0000 - precision: 0.7318 - recall: 0.6655 - val_loss: 0.0158 - val_fn: 14.0000 - val_fp: 14.0000 - val_tn: 39790.0000 - val_tp: 55.0000 - val_precision: 0.7971 - val_recall: 0.7971\n",
      "Epoch 38/100\n",
      "78/78 [==============================] - 6s 74ms/step - loss: 0.0175 - fn: 96.0000 - fp: 69.0000 - tn: 159135.0000 - tp: 191.0000 - precision: 0.7346 - recall: 0.6655 - val_loss: 0.0177 - val_fn: 14.0000 - val_fp: 14.0000 - val_tn: 39790.0000 - val_tp: 55.0000 - val_precision: 0.7971 - val_recall: 0.7971\n",
      "Epoch 39/100\n",
      "78/78 [==============================] - 6s 75ms/step - loss: 0.0174 - fn: 91.0000 - fp: 76.0000 - tn: 159128.0000 - tp: 196.0000 - precision: 0.7206 - recall: 0.6829 - val_loss: 0.0161 - val_fn: 14.0000 - val_fp: 14.0000 - val_tn: 39790.0000 - val_tp: 55.0000 - val_precision: 0.7971 - val_recall: 0.7971\n",
      "Epoch 40/100\n",
      "78/78 [==============================] - 6s 74ms/step - loss: 0.0159 - fn: 89.0000 - fp: 70.0000 - tn: 159134.0000 - tp: 198.0000 - precision: 0.7388 - recall: 0.6899 - val_loss: 0.0153 - val_fn: 14.0000 - val_fp: 14.0000 - val_tn: 39790.0000 - val_tp: 55.0000 - val_precision: 0.7971 - val_recall: 0.7971\n",
      "Epoch 41/100\n",
      "78/78 [==============================] - 6s 75ms/step - loss: 0.0167 - fn: 96.0000 - fp: 63.0000 - tn: 159141.0000 - tp: 191.0000 - precision: 0.7520 - recall: 0.6655 - val_loss: 0.0131 - val_fn: 14.0000 - val_fp: 14.0000 - val_tn: 39790.0000 - val_tp: 55.0000 - val_precision: 0.7971 - val_recall: 0.7971\n",
      "Epoch 42/100\n",
      "78/78 [==============================] - 6s 74ms/step - loss: 0.0157 - fn: 89.0000 - fp: 66.0000 - tn: 159138.0000 - tp: 198.0000 - precision: 0.7500 - recall: 0.6899 - val_loss: 0.0141 - val_fn: 13.0000 - val_fp: 14.0000 - val_tn: 39790.0000 - val_tp: 56.0000 - val_precision: 0.8000 - val_recall: 0.8116\n",
      "Epoch 43/100\n",
      "78/78 [==============================] - 6s 75ms/step - loss: 0.0174 - fn: 98.0000 - fp: 60.0000 - tn: 159144.0000 - tp: 189.0000 - precision: 0.7590 - recall: 0.6585 - val_loss: 0.0114 - val_fn: 14.0000 - val_fp: 14.0000 - val_tn: 39790.0000 - val_tp: 55.0000 - val_precision: 0.7971 - val_recall: 0.7971\n",
      "Epoch 44/100\n",
      "78/78 [==============================] - 6s 74ms/step - loss: 0.0148 - fn: 97.0000 - fp: 61.0000 - tn: 159143.0000 - tp: 190.0000 - precision: 0.7570 - recall: 0.6620 - val_loss: 0.0164 - val_fn: 13.0000 - val_fp: 14.0000 - val_tn: 39790.0000 - val_tp: 56.0000 - val_precision: 0.8000 - val_recall: 0.8116\n",
      "Epoch 45/100\n",
      "78/78 [==============================] - 6s 74ms/step - loss: 0.0149 - fn: 85.0000 - fp: 68.0000 - tn: 159136.0000 - tp: 202.0000 - precision: 0.7481 - recall: 0.7038 - val_loss: 0.0140 - val_fn: 13.0000 - val_fp: 14.0000 - val_tn: 39790.0000 - val_tp: 56.0000 - val_precision: 0.8000 - val_recall: 0.8116\n",
      "Epoch 46/100\n",
      "78/78 [==============================] - 6s 75ms/step - loss: 0.0137 - fn: 85.0000 - fp: 51.0000 - tn: 159153.0000 - tp: 202.0000 - precision: 0.7984 - recall: 0.7038 - val_loss: 0.0105 - val_fn: 13.0000 - val_fp: 14.0000 - val_tn: 39790.0000 - val_tp: 56.0000 - val_precision: 0.8000 - val_recall: 0.8116\n",
      "Epoch 47/100\n",
      "78/78 [==============================] - 6s 75ms/step - loss: 0.0137 - fn: 90.0000 - fp: 63.0000 - tn: 159141.0000 - tp: 197.0000 - precision: 0.7577 - recall: 0.6864 - val_loss: 0.0114 - val_fn: 13.0000 - val_fp: 14.0000 - val_tn: 39790.0000 - val_tp: 56.0000 - val_precision: 0.8000 - val_recall: 0.8116\n",
      "Epoch 48/100\n",
      "78/78 [==============================] - 6s 75ms/step - loss: 0.0132 - fn: 87.0000 - fp: 42.0000 - tn: 159162.0000 - tp: 200.0000 - precision: 0.8264 - recall: 0.6969 - val_loss: 0.0135 - val_fn: 13.0000 - val_fp: 14.0000 - val_tn: 39790.0000 - val_tp: 56.0000 - val_precision: 0.8000 - val_recall: 0.8116\n",
      "Epoch 49/100\n",
      "78/78 [==============================] - 6s 75ms/step - loss: 0.0121 - fn: 93.0000 - fp: 63.0000 - tn: 159141.0000 - tp: 194.0000 - precision: 0.7549 - recall: 0.6760 - val_loss: 0.0124 - val_fn: 13.0000 - val_fp: 14.0000 - val_tn: 39790.0000 - val_tp: 56.0000 - val_precision: 0.8000 - val_recall: 0.8116\n",
      "Epoch 50/100\n",
      "78/78 [==============================] - 6s 75ms/step - loss: 0.0132 - fn: 91.0000 - fp: 52.0000 - tn: 159152.0000 - tp: 196.0000 - precision: 0.7903 - recall: 0.6829 - val_loss: 0.0117 - val_fn: 13.0000 - val_fp: 14.0000 - val_tn: 39790.0000 - val_tp: 56.0000 - val_precision: 0.8000 - val_recall: 0.8116\n",
      "Epoch 51/100\n",
      "78/78 [==============================] - 6s 75ms/step - loss: 0.0106 - fn: 84.0000 - fp: 47.0000 - tn: 159157.0000 - tp: 203.0000 - precision: 0.8120 - recall: 0.7073 - val_loss: 0.0108 - val_fn: 13.0000 - val_fp: 14.0000 - val_tn: 39790.0000 - val_tp: 56.0000 - val_precision: 0.8000 - val_recall: 0.8116\n",
      "Epoch 52/100\n",
      "78/78 [==============================] - 6s 76ms/step - loss: 0.0123 - fn: 91.0000 - fp: 47.0000 - tn: 159157.0000 - tp: 196.0000 - precision: 0.8066 - recall: 0.6829 - val_loss: 0.0110 - val_fn: 13.0000 - val_fp: 14.0000 - val_tn: 39790.0000 - val_tp: 56.0000 - val_precision: 0.8000 - val_recall: 0.8116\n",
      "Epoch 53/100\n",
      "78/78 [==============================] - 6s 76ms/step - loss: 0.0097 - fn: 87.0000 - fp: 45.0000 - tn: 159159.0000 - tp: 200.0000 - precision: 0.8163 - recall: 0.6969 - val_loss: 0.0091 - val_fn: 13.0000 - val_fp: 14.0000 - val_tn: 39790.0000 - val_tp: 56.0000 - val_precision: 0.8000 - val_recall: 0.8116\n",
      "Epoch 54/100\n",
      "78/78 [==============================] - 6s 75ms/step - loss: 0.0110 - fn: 93.0000 - fp: 50.0000 - tn: 159154.0000 - tp: 194.0000 - precision: 0.7951 - recall: 0.6760 - val_loss: 0.0114 - val_fn: 13.0000 - val_fp: 14.0000 - val_tn: 39790.0000 - val_tp: 56.0000 - val_precision: 0.8000 - val_recall: 0.8116\n",
      "Epoch 55/100\n",
      "78/78 [==============================] - 6s 76ms/step - loss: 0.0098 - fn: 83.0000 - fp: 48.0000 - tn: 159156.0000 - tp: 204.0000 - precision: 0.8095 - recall: 0.7108 - val_loss: 0.0098 - val_fn: 13.0000 - val_fp: 14.0000 - val_tn: 39790.0000 - val_tp: 56.0000 - val_precision: 0.8000 - val_recall: 0.8116\n",
      "Epoch 56/100\n",
      "78/78 [==============================] - 6s 75ms/step - loss: 0.0098 - fn: 85.0000 - fp: 42.0000 - tn: 159162.0000 - tp: 202.0000 - precision: 0.8279 - recall: 0.7038 - val_loss: 0.0088 - val_fn: 13.0000 - val_fp: 14.0000 - val_tn: 39790.0000 - val_tp: 56.0000 - val_precision: 0.8000 - val_recall: 0.8116\n",
      "Epoch 57/100\n",
      "78/78 [==============================] - 6s 76ms/step - loss: 0.0092 - fn: 92.0000 - fp: 35.0000 - tn: 159169.0000 - tp: 195.0000 - precision: 0.8478 - recall: 0.6794 - val_loss: 0.0101 - val_fn: 13.0000 - val_fp: 14.0000 - val_tn: 39790.0000 - val_tp: 56.0000 - val_precision: 0.8000 - val_recall: 0.8116\n",
      "Epoch 58/100\n",
      "78/78 [==============================] - 6s 76ms/step - loss: 0.0098 - fn: 80.0000 - fp: 44.0000 - tn: 159160.0000 - tp: 207.0000 - precision: 0.8247 - recall: 0.7213 - val_loss: 0.0085 - val_fn: 13.0000 - val_fp: 13.0000 - val_tn: 39791.0000 - val_tp: 56.0000 - val_precision: 0.8116 - val_recall: 0.8116\n",
      "Epoch 59/100\n",
      "78/78 [==============================] - 6s 76ms/step - loss: 0.0094 - fn: 86.0000 - fp: 46.0000 - tn: 159158.0000 - tp: 201.0000 - precision: 0.8138 - recall: 0.7003 - val_loss: 0.0088 - val_fn: 13.0000 - val_fp: 13.0000 - val_tn: 39791.0000 - val_tp: 56.0000 - val_precision: 0.8116 - val_recall: 0.8116\n",
      "Epoch 60/100\n",
      "78/78 [==============================] - 6s 76ms/step - loss: 0.0088 - fn: 84.0000 - fp: 39.0000 - tn: 159165.0000 - tp: 203.0000 - precision: 0.8388 - recall: 0.7073 - val_loss: 0.0085 - val_fn: 13.0000 - val_fp: 13.0000 - val_tn: 39791.0000 - val_tp: 56.0000 - val_precision: 0.8116 - val_recall: 0.8116\n",
      "Epoch 61/100\n",
      "78/78 [==============================] - 6s 76ms/step - loss: 0.0096 - fn: 93.0000 - fp: 45.0000 - tn: 159159.0000 - tp: 194.0000 - precision: 0.8117 - recall: 0.6760 - val_loss: 0.0066 - val_fn: 13.0000 - val_fp: 12.0000 - val_tn: 39792.0000 - val_tp: 56.0000 - val_precision: 0.8235 - val_recall: 0.8116\n",
      "Epoch 62/100\n",
      "78/78 [==============================] - 6s 77ms/step - loss: 0.0094 - fn: 90.0000 - fp: 36.0000 - tn: 159168.0000 - tp: 197.0000 - precision: 0.8455 - recall: 0.6864 - val_loss: 0.0073 - val_fn: 13.0000 - val_fp: 13.0000 - val_tn: 39791.0000 - val_tp: 56.0000 - val_precision: 0.8116 - val_recall: 0.8116\n",
      "Epoch 63/100\n",
      "78/78 [==============================] - 6s 76ms/step - loss: 0.0065 - fn: 78.0000 - fp: 40.0000 - tn: 159164.0000 - tp: 209.0000 - precision: 0.8394 - recall: 0.7282 - val_loss: 0.0073 - val_fn: 13.0000 - val_fp: 13.0000 - val_tn: 39791.0000 - val_tp: 56.0000 - val_precision: 0.8116 - val_recall: 0.8116\n",
      "Epoch 64/100\n",
      "78/78 [==============================] - 6s 76ms/step - loss: 0.0077 - fn: 81.0000 - fp: 38.0000 - tn: 159166.0000 - tp: 206.0000 - precision: 0.8443 - recall: 0.7178 - val_loss: 0.0073 - val_fn: 13.0000 - val_fp: 12.0000 - val_tn: 39792.0000 - val_tp: 56.0000 - val_precision: 0.8235 - val_recall: 0.8116\n",
      "Epoch 65/100\n",
      "78/78 [==============================] - 6s 76ms/step - loss: 0.0062 - fn: 88.0000 - fp: 28.0000 - tn: 159176.0000 - tp: 199.0000 - precision: 0.8767 - recall: 0.6934 - val_loss: 0.0079 - val_fn: 13.0000 - val_fp: 13.0000 - val_tn: 39791.0000 - val_tp: 56.0000 - val_precision: 0.8116 - val_recall: 0.8116\n",
      "Epoch 66/100\n",
      "78/78 [==============================] - 6s 77ms/step - loss: 0.0072 - fn: 82.0000 - fp: 47.0000 - tn: 159157.0000 - tp: 205.0000 - precision: 0.8135 - recall: 0.7143 - val_loss: 0.0075 - val_fn: 13.0000 - val_fp: 13.0000 - val_tn: 39791.0000 - val_tp: 56.0000 - val_precision: 0.8116 - val_recall: 0.8116\n",
      "Epoch 67/100\n",
      "78/78 [==============================] - 6s 77ms/step - loss: 0.0077 - fn: 82.0000 - fp: 36.0000 - tn: 159168.0000 - tp: 205.0000 - precision: 0.8506 - recall: 0.7143 - val_loss: 0.0072 - val_fn: 13.0000 - val_fp: 13.0000 - val_tn: 39791.0000 - val_tp: 56.0000 - val_precision: 0.8116 - val_recall: 0.8116\n",
      "Epoch 68/100\n",
      "78/78 [==============================] - 6s 77ms/step - loss: 0.0073 - fn: 90.0000 - fp: 41.0000 - tn: 159163.0000 - tp: 197.0000 - precision: 0.8277 - recall: 0.6864 - val_loss: 0.0068 - val_fn: 13.0000 - val_fp: 12.0000 - val_tn: 39792.0000 - val_tp: 56.0000 - val_precision: 0.8235 - val_recall: 0.8116\n",
      "Epoch 69/100\n",
      "78/78 [==============================] - 6s 76ms/step - loss: 0.0061 - fn: 76.0000 - fp: 32.0000 - tn: 159172.0000 - tp: 211.0000 - precision: 0.8683 - recall: 0.7352 - val_loss: 0.0069 - val_fn: 13.0000 - val_fp: 12.0000 - val_tn: 39792.0000 - val_tp: 56.0000 - val_precision: 0.8235 - val_recall: 0.8116\n",
      "Epoch 70/100\n",
      "78/78 [==============================] - 6s 75ms/step - loss: 0.0065 - fn: 83.0000 - fp: 37.0000 - tn: 159167.0000 - tp: 204.0000 - precision: 0.8465 - recall: 0.7108 - val_loss: 0.0052 - val_fn: 14.0000 - val_fp: 9.0000 - val_tn: 39795.0000 - val_tp: 55.0000 - val_precision: 0.8594 - val_recall: 0.7971\n",
      "Epoch 71/100\n",
      "78/78 [==============================] - 6s 76ms/step - loss: 0.0060 - fn: 82.0000 - fp: 32.0000 - tn: 159172.0000 - tp: 205.0000 - precision: 0.8650 - recall: 0.7143 - val_loss: 0.0053 - val_fn: 14.0000 - val_fp: 9.0000 - val_tn: 39795.0000 - val_tp: 55.0000 - val_precision: 0.8594 - val_recall: 0.7971\n",
      "Epoch 72/100\n",
      "78/78 [==============================] - 6s 76ms/step - loss: 0.0061 - fn: 80.0000 - fp: 32.0000 - tn: 159172.0000 - tp: 207.0000 - precision: 0.8661 - recall: 0.7213 - val_loss: 0.0049 - val_fn: 14.0000 - val_fp: 8.0000 - val_tn: 39796.0000 - val_tp: 55.0000 - val_precision: 0.8730 - val_recall: 0.7971\n",
      "Epoch 73/100\n",
      "78/78 [==============================] - 6s 76ms/step - loss: 0.0057 - fn: 82.0000 - fp: 32.0000 - tn: 159172.0000 - tp: 205.0000 - precision: 0.8650 - recall: 0.7143 - val_loss: 0.0056 - val_fn: 14.0000 - val_fp: 9.0000 - val_tn: 39795.0000 - val_tp: 55.0000 - val_precision: 0.8594 - val_recall: 0.7971\n",
      "Epoch 74/100\n",
      "78/78 [==============================] - 6s 75ms/step - loss: 0.0052 - fn: 89.0000 - fp: 30.0000 - tn: 159174.0000 - tp: 198.0000 - precision: 0.8684 - recall: 0.6899 - val_loss: 0.0047 - val_fn: 14.0000 - val_fp: 8.0000 - val_tn: 39796.0000 - val_tp: 55.0000 - val_precision: 0.8730 - val_recall: 0.7971\n",
      "Epoch 75/100\n",
      "78/78 [==============================] - 6s 75ms/step - loss: 0.0057 - fn: 88.0000 - fp: 39.0000 - tn: 159165.0000 - tp: 199.0000 - precision: 0.8361 - recall: 0.6934 - val_loss: 0.0050 - val_fn: 14.0000 - val_fp: 9.0000 - val_tn: 39795.0000 - val_tp: 55.0000 - val_precision: 0.8594 - val_recall: 0.7971\n",
      "Epoch 76/100\n",
      "78/78 [==============================] - 6s 76ms/step - loss: 0.0051 - fn: 74.0000 - fp: 31.0000 - tn: 159173.0000 - tp: 213.0000 - precision: 0.8730 - recall: 0.7422 - val_loss: 0.0055 - val_fn: 14.0000 - val_fp: 9.0000 - val_tn: 39795.0000 - val_tp: 55.0000 - val_precision: 0.8594 - val_recall: 0.7971\n",
      "Epoch 77/100\n",
      "78/78 [==============================] - 6s 75ms/step - loss: 0.0058 - fn: 81.0000 - fp: 36.0000 - tn: 159168.0000 - tp: 206.0000 - precision: 0.8512 - recall: 0.7178 - val_loss: 0.0054 - val_fn: 14.0000 - val_fp: 9.0000 - val_tn: 39795.0000 - val_tp: 55.0000 - val_precision: 0.8594 - val_recall: 0.7971\n",
      "Epoch 78/100\n",
      "78/78 [==============================] - 6s 76ms/step - loss: 0.0061 - fn: 85.0000 - fp: 30.0000 - tn: 159174.0000 - tp: 202.0000 - precision: 0.8707 - recall: 0.7038 - val_loss: 0.0050 - val_fn: 14.0000 - val_fp: 8.0000 - val_tn: 39796.0000 - val_tp: 55.0000 - val_precision: 0.8730 - val_recall: 0.7971\n",
      "Epoch 79/100\n",
      "78/78 [==============================] - 6s 75ms/step - loss: 0.0058 - fn: 87.0000 - fp: 36.0000 - tn: 159168.0000 - tp: 200.0000 - precision: 0.8475 - recall: 0.6969 - val_loss: 0.0049 - val_fn: 14.0000 - val_fp: 8.0000 - val_tn: 39796.0000 - val_tp: 55.0000 - val_precision: 0.8730 - val_recall: 0.7971\n",
      "Epoch 80/100\n",
      "78/78 [==============================] - 6s 75ms/step - loss: 0.0047 - fn: 79.0000 - fp: 23.0000 - tn: 159181.0000 - tp: 208.0000 - precision: 0.9004 - recall: 0.7247 - val_loss: 0.0057 - val_fn: 14.0000 - val_fp: 10.0000 - val_tn: 39794.0000 - val_tp: 55.0000 - val_precision: 0.8462 - val_recall: 0.7971\n",
      "Epoch 81/100\n",
      "78/78 [==============================] - 6s 76ms/step - loss: 0.0047 - fn: 75.0000 - fp: 29.0000 - tn: 159175.0000 - tp: 212.0000 - precision: 0.8797 - recall: 0.7387 - val_loss: 0.0049 - val_fn: 15.0000 - val_fp: 8.0000 - val_tn: 39796.0000 - val_tp: 54.0000 - val_precision: 0.8710 - val_recall: 0.7826\n",
      "Epoch 82/100\n",
      "78/78 [==============================] - 6s 76ms/step - loss: 0.0055 - fn: 85.0000 - fp: 34.0000 - tn: 159170.0000 - tp: 202.0000 - precision: 0.8559 - recall: 0.7038 - val_loss: 0.0047 - val_fn: 17.0000 - val_fp: 6.0000 - val_tn: 39798.0000 - val_tp: 52.0000 - val_precision: 0.8966 - val_recall: 0.7536\n",
      "Epoch 83/100\n",
      "78/78 [==============================] - 6s 75ms/step - loss: 0.0044 - fn: 78.0000 - fp: 21.0000 - tn: 159183.0000 - tp: 209.0000 - precision: 0.9087 - recall: 0.7282 - val_loss: 0.0051 - val_fn: 14.0000 - val_fp: 9.0000 - val_tn: 39795.0000 - val_tp: 55.0000 - val_precision: 0.8594 - val_recall: 0.7971\n",
      "Epoch 84/100\n",
      "78/78 [==============================] - 6s 76ms/step - loss: 0.0051 - fn: 88.0000 - fp: 27.0000 - tn: 159177.0000 - tp: 199.0000 - precision: 0.8805 - recall: 0.6934 - val_loss: 0.0053 - val_fn: 14.0000 - val_fp: 9.0000 - val_tn: 39795.0000 - val_tp: 55.0000 - val_precision: 0.8594 - val_recall: 0.7971\n",
      "Epoch 85/100\n",
      "78/78 [==============================] - 6s 76ms/step - loss: 0.0044 - fn: 78.0000 - fp: 29.0000 - tn: 159175.0000 - tp: 209.0000 - precision: 0.8782 - recall: 0.7282 - val_loss: 0.0045 - val_fn: 15.0000 - val_fp: 8.0000 - val_tn: 39796.0000 - val_tp: 54.0000 - val_precision: 0.8710 - val_recall: 0.7826\n",
      "Epoch 86/100\n",
      "78/78 [==============================] - 6s 77ms/step - loss: 0.0046 - fn: 86.0000 - fp: 20.0000 - tn: 159184.0000 - tp: 201.0000 - precision: 0.9095 - recall: 0.7003 - val_loss: 0.0049 - val_fn: 14.0000 - val_fp: 9.0000 - val_tn: 39795.0000 - val_tp: 55.0000 - val_precision: 0.8594 - val_recall: 0.7971\n",
      "Epoch 87/100\n",
      "78/78 [==============================] - 6s 77ms/step - loss: 0.0049 - fn: 84.0000 - fp: 29.0000 - tn: 159175.0000 - tp: 203.0000 - precision: 0.8750 - recall: 0.7073 - val_loss: 0.0055 - val_fn: 14.0000 - val_fp: 9.0000 - val_tn: 39795.0000 - val_tp: 55.0000 - val_precision: 0.8594 - val_recall: 0.7971\n",
      "Epoch 88/100\n",
      "78/78 [==============================] - 6s 76ms/step - loss: 0.0044 - fn: 82.0000 - fp: 31.0000 - tn: 159173.0000 - tp: 205.0000 - precision: 0.8686 - recall: 0.7143 - val_loss: 0.0046 - val_fn: 17.0000 - val_fp: 5.0000 - val_tn: 39799.0000 - val_tp: 52.0000 - val_precision: 0.9123 - val_recall: 0.7536\n",
      "Epoch 89/100\n",
      "78/78 [==============================] - 6s 76ms/step - loss: 0.0046 - fn: 87.0000 - fp: 31.0000 - tn: 159173.0000 - tp: 200.0000 - precision: 0.8658 - recall: 0.6969 - val_loss: 0.0052 - val_fn: 14.0000 - val_fp: 9.0000 - val_tn: 39795.0000 - val_tp: 55.0000 - val_precision: 0.8594 - val_recall: 0.7971\n",
      "Epoch 90/100\n",
      "78/78 [==============================] - 6s 76ms/step - loss: 0.0041 - fn: 83.0000 - fp: 18.0000 - tn: 159186.0000 - tp: 204.0000 - precision: 0.9189 - recall: 0.7108 - val_loss: 0.0051 - val_fn: 14.0000 - val_fp: 9.0000 - val_tn: 39795.0000 - val_tp: 55.0000 - val_precision: 0.8594 - val_recall: 0.7971\n",
      "Epoch 91/100\n",
      "78/78 [==============================] - 6s 76ms/step - loss: 0.0044 - fn: 75.0000 - fp: 21.0000 - tn: 159183.0000 - tp: 212.0000 - precision: 0.9099 - recall: 0.7387 - val_loss: 0.0045 - val_fn: 17.0000 - val_fp: 6.0000 - val_tn: 39798.0000 - val_tp: 52.0000 - val_precision: 0.8966 - val_recall: 0.7536\n",
      "Epoch 92/100\n",
      "78/78 [==============================] - 6s 76ms/step - loss: 0.0038 - fn: 84.0000 - fp: 18.0000 - tn: 159186.0000 - tp: 203.0000 - precision: 0.9186 - recall: 0.7073 - val_loss: 0.0047 - val_fn: 15.0000 - val_fp: 8.0000 - val_tn: 39796.0000 - val_tp: 54.0000 - val_precision: 0.8710 - val_recall: 0.7826\n",
      "Epoch 93/100\n",
      "78/78 [==============================] - 6s 76ms/step - loss: 0.0042 - fn: 81.0000 - fp: 27.0000 - tn: 159177.0000 - tp: 206.0000 - precision: 0.8841 - recall: 0.7178 - val_loss: 0.0045 - val_fn: 15.0000 - val_fp: 8.0000 - val_tn: 39796.0000 - val_tp: 54.0000 - val_precision: 0.8710 - val_recall: 0.7826\n",
      "Epoch 94/100\n",
      "78/78 [==============================] - 6s 76ms/step - loss: 0.0037 - fn: 76.0000 - fp: 20.0000 - tn: 159184.0000 - tp: 211.0000 - precision: 0.9134 - recall: 0.7352 - val_loss: 0.0043 - val_fn: 14.0000 - val_fp: 8.0000 - val_tn: 39796.0000 - val_tp: 55.0000 - val_precision: 0.8730 - val_recall: 0.7971\n",
      "Epoch 95/100\n",
      "78/78 [==============================] - 6s 75ms/step - loss: 0.0040 - fn: 77.0000 - fp: 28.0000 - tn: 159176.0000 - tp: 210.0000 - precision: 0.8824 - recall: 0.7317 - val_loss: 0.0055 - val_fn: 13.0000 - val_fp: 10.0000 - val_tn: 39794.0000 - val_tp: 56.0000 - val_precision: 0.8485 - val_recall: 0.8116\n",
      "Epoch 96/100\n",
      "78/78 [==============================] - 6s 76ms/step - loss: 0.0038 - fn: 70.0000 - fp: 17.0000 - tn: 159187.0000 - tp: 217.0000 - precision: 0.9274 - recall: 0.7561 - val_loss: 0.0046 - val_fn: 15.0000 - val_fp: 8.0000 - val_tn: 39796.0000 - val_tp: 54.0000 - val_precision: 0.8710 - val_recall: 0.7826\n",
      "Epoch 97/100\n",
      "78/78 [==============================] - 6s 76ms/step - loss: 0.0036 - fn: 74.0000 - fp: 21.0000 - tn: 159183.0000 - tp: 213.0000 - precision: 0.9103 - recall: 0.7422 - val_loss: 0.0047 - val_fn: 17.0000 - val_fp: 5.0000 - val_tn: 39799.0000 - val_tp: 52.0000 - val_precision: 0.9123 - val_recall: 0.7536\n",
      "Epoch 98/100\n",
      "78/78 [==============================] - 6s 76ms/step - loss: 0.0035 - fn: 78.0000 - fp: 16.0000 - tn: 159188.0000 - tp: 209.0000 - precision: 0.9289 - recall: 0.7282 - val_loss: 0.0047 - val_fn: 14.0000 - val_fp: 8.0000 - val_tn: 39796.0000 - val_tp: 55.0000 - val_precision: 0.8730 - val_recall: 0.7971\n",
      "Epoch 99/100\n",
      "78/78 [==============================] - 6s 76ms/step - loss: 0.0034 - fn: 70.0000 - fp: 21.0000 - tn: 159183.0000 - tp: 217.0000 - precision: 0.9118 - recall: 0.7561 - val_loss: 0.0045 - val_fn: 16.0000 - val_fp: 7.0000 - val_tn: 39797.0000 - val_tp: 53.0000 - val_precision: 0.8833 - val_recall: 0.7681\n",
      "Epoch 100/100\n",
      "78/78 [==============================] - 6s 76ms/step - loss: 0.0037 - fn: 79.0000 - fp: 25.0000 - tn: 159179.0000 - tp: 208.0000 - precision: 0.8927 - recall: 0.7247 - val_loss: 0.0047 - val_fn: 13.0000 - val_fp: 8.0000 - val_tn: 39796.0000 - val_tp: 56.0000 - val_precision: 0.8750 - val_recall: 0.8116\n"
     ]
    }
   ],
   "source": [
    "callbacks = [keras.callbacks.ModelCheckpoint('fraud_model_at_epoch_{epoch}.h5')]\n",
    "class_weight = {0:w_p, 1:w_n}\n",
    "\n",
    "r = model.fit(\n",
    "    X_train, y_train, \n",
    "    validation_data=(X_validate, y_validate),\n",
    "    batch_size=2048, \n",
    "    epochs=100, \n",
    "#     class_weight=class_weight,\n",
    "    callbacks=callbacks,\n",
    ")"
   ]
  },
  {
   "cell_type": "markdown",
   "metadata": {
    "id": "ifx1UjvWQ-e3"
   },
   "source": [
    "Model Evaluation"
   ]
  },
  {
   "cell_type": "code",
   "execution_count": 20,
   "metadata": {
    "colab": {
     "base_uri": "https://localhost:8080/"
    },
    "id": "MkWrdnROi6tD",
    "outputId": "e786e581-0f54-4009-c282-88c7a86470e6"
   },
   "outputs": [
    {
     "name": "stdout",
     "output_type": "stream",
     "text": [
      "2671/2671 [==============================] - 5s 2ms/step - loss: 0.0031 - fn: 28.0000 - fp: 15.0000 - tn: 85292.0000 - tp: 108.0000 - precision: 0.8780 - recall: 0.7941\n",
      "[0.0031273753847926855, 28.0, 15.0, 85292.0, 108.0, 0.8780487775802612, 0.7941176295280457]\n"
     ]
    }
   ],
   "source": [
    "score = model.evaluate(X_test, y_test)\n",
    "print(score)"
   ]
  },
  {
   "cell_type": "markdown",
   "metadata": {
    "id": "5egFBidIPamI"
   },
   "source": [
    "Loss, Accuracdy, Precision and recall graphs"
   ]
  },
  {
   "cell_type": "code",
   "execution_count": 21,
   "metadata": {
    "colab": {
     "base_uri": "https://localhost:8080/",
     "height": 500
    },
    "id": "aw0x4qDdi9fW",
    "outputId": "9da1ff09-bf01-4410-8bbd-36f5b1b97bb3"
   },
   "outputs": [
    {
     "data": {
      "text/plain": [
       "<matplotlib.legend.Legend at 0x7fda2411d450>"
      ]
     },
     "execution_count": 21,
     "metadata": {},
     "output_type": "execute_result"
    },
    {
     "data": {
      "image/png": "[encoded data removed]",
      "text/plain": [
       "<Figure size 864x1152 with 4 Axes>"
      ]
     },
     "metadata": {},
     "output_type": "display_data"
    }
   ],
   "source": [
    "plt.figure(figsize=(12, 16))\n",
    "\n",
    "plt.subplot(4, 2, 1)\n",
    "plt.plot(r.history['loss'], label='Loss')\n",
    "plt.plot(r.history['val_loss'], label='val_Loss')\n",
    "plt.title('Loss Function evolution during training')\n",
    "plt.legend()\n",
    "\n",
    "plt.subplot(4, 2, 2)\n",
    "plt.plot(r.history['fn'], label='fn')\n",
    "plt.plot(r.history['val_fn'], label='val_fn')\n",
    "plt.title('Accuracy evolution during training')\n",
    "plt.legend()\n",
    "\n",
    "plt.subplot(4, 2, 3)\n",
    "plt.plot(r.history['precision'], label='precision')\n",
    "plt.plot(r.history['val_precision'], label='val_precision')\n",
    "plt.title('Precision evolution during training')\n",
    "plt.legend()\n",
    "\n",
    "plt.subplot(4, 2, 4)\n",
    "plt.plot(r.history['recall'], label='recall')\n",
    "plt.plot(r.history['val_recall'], label='val_recall')\n",
    "plt.title('Recall evolution during training')\n",
    "plt.legend()"
   ]
  },
  {
   "cell_type": "markdown",
   "metadata": {
    "id": "NDEShNHrTv44"
   },
   "source": [
    "ANN (Artificial Neural Network Testing)"
   ]
  },
  {
   "cell_type": "code",
   "execution_count": 22,
   "metadata": {
    "colab": {
     "base_uri": "https://localhost:8080/"
    },
    "id": "SJUGdp__jAqY",
    "outputId": "1b5d1847-9bde-4dfd-8638-f0e25fc3e479"
   },
   "outputs": [
    {
     "name": "stdout",
     "output_type": "stream",
     "text": [
      "Train Result:\n",
      "================================================\n",
      "Accuracy Score: 99.95%\n",
      "_______________________________________________\n",
      "Classification Report:\n",
      "                       0           1  accuracy      macro avg   weighted avg\n",
      "precision       0.999623    0.941909  0.999536       0.970766       0.999519\n",
      "recall          0.999912    0.790941  0.999536       0.895426       0.999536\n",
      "f1-score        0.999768    0.859848  0.999536       0.929808       0.999516\n",
      "support    159204.000000  287.000000  0.999536  159491.000000  159491.000000\n",
      "_______________________________________________\n",
      "Confusion Matrix: \n",
      " [[159190     14]\n",
      " [    60    227]]\n",
      "\n",
      "Test Result:\n",
      "================================================\n",
      "Accuracy Score: 99.95%\n",
      "_______________________________________________\n",
      "Classification Report:\n",
      "                      0           1  accuracy     macro avg  weighted avg\n",
      "precision      0.999672    0.878049  0.999497      0.938860      0.999478\n",
      "recall         0.999824    0.794118  0.999497      0.896971      0.999497\n",
      "f1-score       0.999748    0.833977  0.999497      0.916862      0.999484\n",
      "support    85307.000000  136.000000  0.999497  85443.000000  85443.000000\n",
      "_______________________________________________\n",
      "Confusion Matrix: \n",
      " [[85292    15]\n",
      " [   28   108]]\n",
      "\n"
     ]
    }
   ],
   "source": [
    "y_train_pred = model.predict(X_train)\n",
    "y_test_pred = model.predict(X_test)\n",
    "\n",
    "print_score(y_train, y_train_pred.round(), train=True)\n",
    "print_score(y_test, y_test_pred.round(), train=False)\n",
    "\n",
    "scores_dict = {\n",
    "    'ANNs': {\n",
    "        'Train': f1_score(y_train, y_train_pred.round()),\n",
    "        'Test': f1_score(y_test, y_test_pred.round()),\n",
    "    },\n",
    "}"
   ]
  },
  {
   "cell_type": "markdown",
   "metadata": {
    "id": "JgL-HoAXT4GW"
   },
   "source": [
    "Random Forest Training and testing "
   ]
  },
  {
   "cell_type": "code",
   "execution_count": 23,
   "metadata": {
    "colab": {
     "base_uri": "https://localhost:8080/"
    },
    "id": "RlcVBH0OSMHD",
    "outputId": "0bb6357c-c3bf-4d48-d5dc-ed887b8accb6"
   },
   "outputs": [
    {
     "name": "stdout",
     "output_type": "stream",
     "text": [
      "Train Result:\n",
      "================================================\n",
      "Accuracy Score: 100.00%\n",
      "_______________________________________________\n",
      "Classification Report:\n",
      "                  0      1  accuracy  macro avg  weighted avg\n",
      "precision       1.0    1.0       1.0        1.0           1.0\n",
      "recall          1.0    1.0       1.0        1.0           1.0\n",
      "f1-score        1.0    1.0       1.0        1.0           1.0\n",
      "support    159204.0  287.0       1.0   159491.0      159491.0\n",
      "_______________________________________________\n",
      "Confusion Matrix: \n",
      " [[159204      0]\n",
      " [     0    287]]\n",
      "\n",
      "Test Result:\n",
      "================================================\n",
      "Accuracy Score: 99.96%\n",
      "_______________________________________________\n",
      "Classification Report:\n",
      "                      0           1  accuracy     macro avg  weighted avg\n",
      "precision      0.999719    0.933333  0.999625      0.966526      0.999613\n",
      "recall         0.999906    0.823529  0.999625      0.911718      0.999625\n",
      "f1-score       0.999812    0.875000  0.999625      0.937406      0.999614\n",
      "support    85307.000000  136.000000  0.999625  85443.000000  85443.000000\n",
      "_______________________________________________\n",
      "Confusion Matrix: \n",
      " [[85299     8]\n",
      " [   24   112]]\n",
      "\n"
     ]
    }
   ],
   "source": [
    "\n",
    "rf_clf = RandomForestClassifier(n_estimators=100, oob_score=False)\n",
    "rf_clf.fit(X_train, y_train)\n",
    "\n",
    "y_train_pred = rf_clf.predict(X_train)\n",
    "y_test_pred = rf_clf.predict(X_test)\n",
    "\n",
    "print_score(y_train, y_train_pred, train=True)\n",
    "print_score(y_test, y_test_pred, train=False)\n",
    "\n",
    "scores_dict['Random Forest'] = {\n",
    "        'Train': f1_score(y_train,y_train_pred),\n",
    "        'Test': f1_score(y_test, y_test_pred),\n",
    "}"
   ]
  },
  {
   "cell_type": "markdown",
   "metadata": {
    "id": "lF0nVEzVUYNS"
   },
   "source": [
    "Logistic Regression Training and Testing"
   ]
  },
  {
   "cell_type": "code",
   "execution_count": 24,
   "metadata": {
    "colab": {
     "base_uri": "https://localhost:8080/"
    },
    "id": "rRAarTZgY5HH",
    "outputId": "cf68cb41-b130-47a9-8177-ef30b7116119"
   },
   "outputs": [
    {
     "name": "stdout",
     "output_type": "stream",
     "text": [
      "Train Result:\n",
      "================================================\n",
      "Accuracy Score: 99.92%\n",
      "_______________________________________________\n",
      "Classification Report:\n",
      "                       0           1  accuracy      macro avg   weighted avg\n",
      "precision       0.999322    0.890547  0.999185       0.944935       0.999126\n",
      "recall          0.999862    0.623693  0.999185       0.811778       0.999185\n",
      "f1-score        0.999592    0.733607  0.999185       0.866599       0.999113\n",
      "support    159204.000000  287.000000  0.999185  159491.000000  159491.000000\n",
      "_______________________________________________\n",
      "Confusion Matrix: \n",
      " [[159182     22]\n",
      " [   108    179]]\n",
      "\n",
      "Test Result:\n",
      "================================================\n",
      "Accuracy Score: 99.93%\n",
      "_______________________________________________\n",
      "Classification Report:\n",
      "                      0           1  accuracy     macro avg  weighted avg\n",
      "precision      0.999426    0.870000  0.999274      0.934713      0.999220\n",
      "recall         0.999848    0.639706  0.999274      0.819777      0.999274\n",
      "f1-score       0.999637    0.737288  0.999274      0.868462      0.999219\n",
      "support    85307.000000  136.000000  0.999274  85443.000000  85443.000000\n",
      "_______________________________________________\n",
      "Confusion Matrix: \n",
      " [[85294    13]\n",
      " [   49    87]]\n",
      "\n"
     ]
    }
   ],
   "source": [
    "model = LogisticRegression()\n",
    "model.fit(X_train, y_train)\n",
    "\n",
    "y_train_pred = model.predict(X_train)\n",
    "y_test_pred = model.predict(X_test)\n",
    "\n",
    "print_score(y_train, y_train_pred, train=True)\n",
    "print_score(y_test, y_test_pred, train=False)\n",
    "\n",
    "scores_dict['LogisticRegression'] = {\n",
    "        'Train': f1_score(y_train,y_train_pred),\n",
    "        'Test': f1_score(y_test, y_test_pred),\n",
    "}"
   ]
  },
  {
   "cell_type": "code",
   "execution_count": 26,
   "metadata": {
    "colab": {
     "base_uri": "https://localhost:8080/"
    },
    "id": "W080qMn2oNcD",
    "outputId": "e699e1a9-4178-4fc4-ab4f-0e615452b275"
   },
   "outputs": [
    {
     "name": "stdout",
     "output_type": "stream",
     "text": [
      "Train Result:\n",
      "================================================\n",
      "Accuracy Score: 99.97%\n",
      "_______________________________________________\n",
      "Classification Report:\n",
      "                       0           1  accuracy      macro avg   weighted avg\n",
      "precision       0.999711    0.983673  0.999687       0.991692       0.999682\n",
      "recall          0.999975    0.839721  0.999687       0.919848       0.999687\n",
      "f1-score        0.999843    0.906015  0.999687       0.952929       0.999674\n",
      "support    159204.000000  287.000000  0.999687  159491.000000  159491.000000\n",
      "_______________________________________________\n",
      "Confusion Matrix: \n",
      " [[159200      4]\n",
      " [    46    241]]\n",
      "\n",
      "Test Result:\n",
      "================================================\n",
      "Accuracy Score: 99.96%\n",
      "_______________________________________________\n",
      "Classification Report:\n",
      "                      0           1  accuracy     macro avg  weighted avg\n",
      "precision      0.999707    0.932773  0.999614      0.966240      0.999600\n",
      "recall         0.999906    0.816176  0.999614      0.908041      0.999614\n",
      "f1-score       0.999807    0.870588  0.999614      0.935197      0.999601\n",
      "support    85307.000000  136.000000  0.999614  85443.000000  85443.000000\n",
      "_______________________________________________\n",
      "Confusion Matrix: \n",
      " [[85299     8]\n",
      " [   25   111]]\n",
      "\n"
     ]
    }
   ],
   "source": [
    "from xgboost import XGBClassifier\n",
    "\n",
    "xgb_clf = XGBClassifier()\n",
    "xgb_clf.fit(X_train, y_train, eval_metric='aucpr')\n",
    "\n",
    "y_train_pred = xgb_clf.predict(X_train)\n",
    "y_test_pred = xgb_clf.predict(X_test)\n",
    "\n",
    "print_score(y_train, y_train_pred, train=True)\n",
    "print_score(y_test, y_test_pred, train=False)\n",
    "\n",
    "scores_dict['XGBoost'] = {\n",
    "        'Train': f1_score(y_train,y_train_pred),\n",
    "        'Test': f1_score(y_test, y_test_pred),\n",
    "}"
   ]
  },
  {
   "cell_type": "code",
   "execution_count": 27,
   "metadata": {
    "colab": {
     "base_uri": "https://localhost:8080/",
     "height": 502
    },
    "id": "lpHY2V1UpPoi",
    "outputId": "b833b0c9-5d31-4e4e-dbb7-2589fd0edf2f"
   },
   "outputs": [
    {
     "data": {
      "text/plain": [
       "<matplotlib.axes._subplots.AxesSubplot at 0x7fda20fb4810>"
      ]
     },
     "execution_count": 27,
     "metadata": {},
     "output_type": "execute_result"
    },
    {
     "data": {
      "image/png": "[encoded data removed]",
      "text/plain": [
       "<Figure size 1080x576 with 1 Axes>"
      ]
     },
     "metadata": {},
     "output_type": "display_data"
    }
   ],
   "source": [
    "scores_df = pd.DataFrame(scores_dict)\n",
    "\n",
    "scores_df.plot(kind='barh', figsize=(15, 8))"
   ]
  }
 ],
 "metadata": {
  "colab": {
   "collapsed_sections": [],
   "name": "CreditCard.ipynb",
   "provenance": []
  },
  "kernelspec": {
   "display_name": "Python 3 (ipykernel)",
   "language": "python",
   "name": "python3"
  },
  "language_info": {
   "codemirror_mode": {
    "name": "ipython",
    "version": 3
   },
   "file_extension": ".py",
   "mimetype": "text/x-python",
   "name": "python",
   "nbconvert_exporter": "python",
   "pygments_lexer": "ipython3",
   "version": "3.8.12"
  }
 },
 "nbformat": 4,
 "nbformat_minor": 1
}
